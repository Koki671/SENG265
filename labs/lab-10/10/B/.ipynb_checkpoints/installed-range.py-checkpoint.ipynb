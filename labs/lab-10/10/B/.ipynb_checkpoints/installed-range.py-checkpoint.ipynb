{
 "cells": [
  {
   "cell_type": "code",
   "execution_count": 1,
   "id": "a7e7457f",
   "metadata": {},
   "outputs": [],
   "source": [
    "#!/usr/bin/env python3\n",
    "\"\"\"\n",
    "Obtain and print the names of the packages without the cpu architecture (similar to A\\installed4.py) that were installed within\n",
    "the range of dates provided by the user (i.e., variables date_from and date_to). \n",
    "\n",
    "* Dates provided by the user should follow the format yyyy-mm-dd\n",
    "* The output for each package belonging to the specified range should be:\n",
    "yyyy-mm-dd: NAME_OF_PACKAGE\n",
    "* An example of output from the program is described in range-2020-07-15-to-2020-07-16.txt\n",
    "\n",
    "\"\"\"\n",
    "\n",
    "import re\n",
    "import sys\n",
    "\n",
    "def main():\n",
    "    if len(sys.argv) < 3:\n",
    "        sys.exit(0)\n",
    "    date_from = sys.argv[1]\n",
    "    date_to   = sys.argv[2] \n",
    "    with open(\"dpkg.log\") as file:\n",
    "        for line in file:\n",
    "            if 'installed' in line:\n",
    "                # Extract the date and package name from the line\n",
    "                m = re.search(r'^(\\d{4}-\\d{2}-\\d{2}).* installed (.+)', line)\n",
    "                if m:\n",
    "                    install_date = m.group(1)\n",
    "                    package_name = m.group(2)\n",
    "             # Check if the installation date is within the specified range\n",
    "                    if date_from <= install_date <= date_to:\n",
    "                        # Extract the package name without the architecture information\n",
    "                        package_name_clean = re.sub(r':.*$', '', package_name)\n",
    "                        # Print the output line in the specified format\n",
    "                        print(f'{install_date}: {package_name_clean}')\n",
    "\n",
    "if __name__ == \"__main__\":\n",
    "    main()\n",
    "\n",
    "\n"
   ]
  }
 ],
 "metadata": {
  "kernelspec": {
   "display_name": "Python 3 (ipykernel)",
   "language": "python",
   "name": "python3"
  },
  "language_info": {
   "codemirror_mode": {
    "name": "ipython",
    "version": 3
   },
   "file_extension": ".py",
   "mimetype": "text/x-python",
   "name": "python",
   "nbconvert_exporter": "python",
   "pygments_lexer": "ipython3",
   "version": "3.9.13"
  }
 },
 "nbformat": 4,
 "nbformat_minor": 5
}
