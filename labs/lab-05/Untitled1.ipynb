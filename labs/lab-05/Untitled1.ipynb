{
 "cells": [
  {
   "cell_type": "code",
   "execution_count": 1,
   "id": "16d44c54",
   "metadata": {},
   "outputs": [
    {
     "name": "stdout",
     "output_type": "stream",
     "text": [
      "      resultId  driverId  positionOrder forename     surname\n",
      "0            1         1              1    Lewis    Hamilton\n",
      "1           23         8              1     Kimi   Räikkönen\n",
      "2           45        13              1   Felipe       Massa\n",
      "3           67         8              1     Kimi   Räikkönen\n",
      "4           89        13              1   Felipe       Massa\n",
      "...        ...       ...            ...      ...         ...\n",
      "1058     25366         1              1    Lewis    Hamilton\n",
      "1059     25386       830              1      Max  Verstappen\n",
      "1060     25406       844              1  Charles     Leclerc\n",
      "1061     25426       830              1      Max  Verstappen\n",
      "1062     25446       844              1  Charles     Leclerc\n",
      "\n",
      "[1063 rows x 5 columns]\n",
      "     driverId   forename     surname  size\n",
      "0           1      Lewis    Hamilton   103\n",
      "15         30    Michael  Schumacher    91\n",
      "11         20  Sebastian      Vettel    53\n",
      "29        117      Alain       Prost    51\n",
      "27        102     Ayrton       Senna    41\n",
      "2           4   Fernando      Alonso    32\n",
      "26         95      Nigel     Mansell    31\n",
      "64        328     Jackie     Stewart    27\n",
      "73        373        Jim       Clark    25\n",
      "40        182       Niki       Lauda    25\n",
      "92        579       Juan      Fangio    24\n",
      "1           3       Nico     Rosberg    23\n",
      "32        137     Nelson      Piquet    23\n",
      "24         71      Damon        Hill    22\n",
      "107       830        Max  Verstappen    21\n",
      "4           8       Kimi   Räikkönen    21\n",
      "22         57       Mika    Häkkinen    20\n",
      "82        475   Stirling        Moss    16\n",
      "10         18     Jenson      Button    15\n",
      "51        224    Emerson  Fittipaldi    14\n"
     ]
    }
   ],
   "source": [
    "#!/usr/bin/env python\n",
    "import pandas as pd\n",
    "def main():\n",
    "    drivers_df: pd.DataFrame = pd.read_csv('drivers.csv')\n",
    "    results_df: pd.DataFrame = pd.read_csv('results.csv')\n",
    "    drivers_df.drop(['driverRef', 'number', 'code', 'dob', 'nationality', 'url'], inplace=True, axis=1)\n",
    "    results_df.drop(['raceId', 'constructorId', 'number', 'grid', 'position', 'positionText', 'points','laps','time', 'milliseconds', 'fastestLap', 'rank','fastestLapTime', 'fastestLapSpeed', 'statusId'],inplace=True, axis=1)\n",
    "    results_df = results_df[results_df['positionOrder'] == 1]\n",
    "    merged_df: pd.DataFrame = results_df.merge(drivers_df, on='driverId', how='left')\n",
    "    print(merged_df)\n",
    "    \n",
    "    answer: pd.DataFrame = merged_df.groupby(['driverId', 'forename', 'surname'],\n",
    "as_index=False).size().sort_values(by='size', ascending=False).head(10)\n",
    "    print(answer)\n",
    "    \n",
    "    \n",
    "\n",
    "if __name__==\"__main__\":\n",
    "    main()\n",
    "    "
   ]
  },
  {
   "cell_type": "code",
   "execution_count": null,
   "id": "08838558",
   "metadata": {},
   "outputs": [],
   "source": []
  }
 ],
 "metadata": {
  "kernelspec": {
   "display_name": "Python 3 (ipykernel)",
   "language": "python",
   "name": "python3"
  },
  "language_info": {
   "codemirror_mode": {
    "name": "ipython",
    "version": 3
   },
   "file_extension": ".py",
   "mimetype": "text/x-python",
   "name": "python",
   "nbconvert_exporter": "python",
   "pygments_lexer": "ipython3",
   "version": "3.9.13"
  }
 },
 "nbformat": 4,
 "nbformat_minor": 5
}
