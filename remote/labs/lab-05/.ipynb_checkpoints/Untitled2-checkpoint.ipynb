{
 "cells": [
  {
   "cell_type": "code",
   "execution_count": null,
   "id": "cfccb831",
   "metadata": {},
   "outputs": [],
   "source": [
    "#!/usr/bin/env python\n",
    "import pandas as pd\n",
    "def main():\n",
    "    drivers_df: pd.DataFrame = pd.read_csv('drivers.csv')\n",
    "    results_df: pd.DataFrame = pd.read_csv('results.csv')\n",
    "    drivers_df.drop(['driverRef', 'number', 'code', 'dob', 'nationality', 'url'], inplace=True, axis=1)\n",
    "    results_df.drop(['raceId', 'constructorId', 'number', 'grid', 'position', 'positionText', 'points','laps','time', 'milliseconds', 'fastestLap', 'rank','fastestLapTime', 'fastestLapSpeed', 'statusId'],inplace=True, axis=1)\n",
    "    results_df = results_df[results_df['positionOrder'] == 1]\n",
    "    merged_df: pd.DataFrame = results_df.merge(drivers_df, on='driverId', how='left')\n",
    "    print(merged_df)\n",
    "    \n",
    "    answer: pd.DataFrame = merged_df.groupby(['driverId', 'forename', 'surname'],\n",
    "as_index=False).size().sort_values(by='size', ascending=False).head(10)\n",
    "    print(answer)\n",
    "    \n",
    "    \n",
    "\n",
    "if __name__==\"__main__\":\n",
    "    main()\n",
    "    "
   ]
  }
 ],
 "metadata": {
  "kernelspec": {
   "display_name": "Python 3 (ipykernel)",
   "language": "python",
   "name": "python3"
  },
  "language_info": {
   "codemirror_mode": {
    "name": "ipython",
    "version": 3
   },
   "file_extension": ".py",
   "mimetype": "text/x-python",
   "name": "python",
   "nbconvert_exporter": "python",
   "pygments_lexer": "ipython3",
   "version": "3.9.13"
  }
 },
 "nbformat": 4,
 "nbformat_minor": 5
}
