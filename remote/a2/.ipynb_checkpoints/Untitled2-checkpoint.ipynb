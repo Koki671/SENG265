{
 "cells": [
  {
   "cell_type": "code",
   "execution_count": null,
   "metadata": {},
   "outputs": [],
   "source": []
  }
 ],
 "metadata": {
  "kernelspec": {
   "display_name": "seng265",
   "language": "python",
   "name": "python3"
  },
  "language_info": {
   "name": "python",
   "version": "3.8.16"
  },
  "vscode": {
   "interpreter": {
    "hash": "73d8e95329e23be19b5998f028bca32f7ec15b8ba7eac07595af28cd42b6bb32"
   }
  }
 },
 "nbformat": 4,
 "nbformat_minor": 5
}
