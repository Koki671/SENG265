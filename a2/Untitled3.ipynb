{
 "cells": [
  {
   "cell_type": "code",
   "execution_count": 6,
   "id": "e4a47b4a",
   "metadata": {},
   "outputs": [
    {
     "ename": "NameError",
     "evalue": "name 'airline' is not defined",
     "output_type": "error",
     "traceback": [
      "\u001b[0;31m---------------------------------------------------------------------------\u001b[0m",
      "\u001b[0;31mNameError\u001b[0m                                 Traceback (most recent call last)",
      "\u001b[0;32m/var/folders/01/2yvtxtrj6fgf56ngvy06bjpw0000gn/T/ipykernel_13067/2053666743.py\u001b[0m in \u001b[0;36m<module>\u001b[0;34m\u001b[0m\n\u001b[1;32m     15\u001b[0m \u001b[0;34m\u001b[0m\u001b[0m\n\u001b[1;32m     16\u001b[0m \u001b[0;34m\u001b[0m\u001b[0m\n\u001b[0;32m---> 17\u001b[0;31m \u001b[0;32mwith\u001b[0m \u001b[0mopen\u001b[0m\u001b[0;34m(\u001b[0m\u001b[0mairline\u001b[0m\u001b[0;34m)\u001b[0m \u001b[0;32mas\u001b[0m \u001b[0mf\u001b[0m\u001b[0;34m:\u001b[0m                                                \u001b[0;31m# creating dataframes for the respective files\u001b[0m\u001b[0;34m\u001b[0m\u001b[0;34m\u001b[0m\u001b[0m\n\u001b[0m\u001b[1;32m     18\u001b[0m     \u001b[0mairline_df\u001b[0m\u001b[0;34m:\u001b[0m \u001b[0mpd\u001b[0m\u001b[0;34m.\u001b[0m\u001b[0mDataFrame\u001b[0m \u001b[0;34m=\u001b[0m \u001b[0mpd\u001b[0m\u001b[0;34m.\u001b[0m\u001b[0mDataFrame\u001b[0m\u001b[0;34m(\u001b[0m\u001b[0myaml\u001b[0m\u001b[0;34m.\u001b[0m\u001b[0mload\u001b[0m\u001b[0;34m(\u001b[0m\u001b[0mf\u001b[0m\u001b[0;34m)\u001b[0m\u001b[0;34m[\u001b[0m\u001b[0;34m'airlines'\u001b[0m\u001b[0;34m]\u001b[0m\u001b[0;34m)\u001b[0m\u001b[0;34m\u001b[0m\u001b[0;34m\u001b[0m\u001b[0m\n\u001b[1;32m     19\u001b[0m \u001b[0;34m\u001b[0m\u001b[0m\n",
      "\u001b[0;31mNameError\u001b[0m: name 'airline' is not defined"
     ]
    }
   ],
   "source": [
    "#!/usr/bin/env python\n",
    "# -*- coding: utf-8 -*-\n",
    "\"\"\"\n",
    "Created on Wed Feb 8 14:44:33 2023\n",
    "Based on: https://www.kaggle.com/datasets/arbazmohammad/world-airports-and-airlines-datasets\n",
    "Sample input: --AIRLINES=\"airlines.yaml\" --AIRPORTS=\"airports.yaml\" --ROUTES=\"routes.yaml\" --QUESTION=\"q1\" --GRAPH_TYPE=\"bar\"\n",
    "@author: rivera\n",
    "@author: koki \n",
    "\"\"\" \n",
    "import sys\n",
    "import yaml\n",
    "import pandas as pd\n",
    "import matplotlib.pyplot as plt\n",
    "\n",
    "\n",
    "\n",
    "airline: str = sys.argv[1].split('=')[1]                # extracting the command line arguments\n",
    "airports: str = sys.argv[2].split('=')[1]        \n",
    "routes: str = sys.argv[3].split('=')[1]\n",
    "question: str = sys.argv[4].split('=')[1]\n",
    "graph_type: str = sys.argv[5].split('=')[1]\n",
    "    \n",
    "with open(airline) as f:                                                # creating dataframes for the respective files\n",
    "    airline_df: pd.DataFrame = pd.DataFrame(yaml.load(f)['airlines'])\n",
    "\n",
    "with open(airports) as f:\n",
    "    airports_df: pd.DataFrame = pd.DataFrame(yaml.load(f)['airports'])\n",
    "\n",
    "with open(routes) as f:\n",
    "    routes_df: pd.DataFrame = pd.DataFrame(yaml.load(f)['routes'])\n",
    "airline_df.drop(['airline_country'], inplace=True, axis=1)\n",
    "airports_df.drop(['airport_name', 'airport_city', 'airport_icao_unique_code', 'airport_altitude'], inplace=True, axis=1)\n",
    "routes_df.drop(['route_from_aiport_id'], inplace=True, axis=1)\n",
    "\n",
    "airports_df = airports_df[airports_df['airport_country']=='Canada']\n",
    "\n",
    "routes_df = routes_df.rename(columns={'route_airline_id':'airline_id'})\n",
    "answer: pd.DataFrame = routes_df.merge(airline_df, on='airline_id', how='inner') \n",
    "answer = answer.rename(columns={'route_to_airport_id':'airport_id'})\n",
    "answer = answer.merge(airports_df, on='airport_id', how='inner') \n",
    "answer = df_lstrip(answer,answer.columns)\n",
    "answer = answer.groupby(['airline_name', 'airline_icao_unique_code'], as_index=False).size().sort_values(by=['size', 'airline_name'], ascending=[False, True]).head(20) \n",
    "process_data(answer, question, graph_type) \n",
    "\n",
    "    \n",
    "     \n",
    "\n",
    "if __name__ == '__main__':\n",
    "    main()\n",
    "\n"
   ]
  },
  {
   "cell_type": "code",
   "execution_count": null,
   "id": "d8c9b2bc",
   "metadata": {},
   "outputs": [],
   "source": []
  }
 ],
 "metadata": {
  "kernelspec": {
   "display_name": "Python 3 (ipykernel)",
   "language": "python",
   "name": "python3"
  },
  "language_info": {
   "codemirror_mode": {
    "name": "ipython",
    "version": 3
   },
   "file_extension": ".py",
   "mimetype": "text/x-python",
   "name": "python",
   "nbconvert_exporter": "python",
   "pygments_lexer": "ipython3",
   "version": "3.9.13"
  }
 },
 "nbformat": 4,
 "nbformat_minor": 5
}
