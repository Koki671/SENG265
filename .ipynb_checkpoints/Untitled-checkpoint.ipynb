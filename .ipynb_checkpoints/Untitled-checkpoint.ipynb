{
 "cells": [
  {
   "cell_type": "code",
   "execution_count": null,
   "id": "3466a641",
   "metadata": {},
   "outputs": [],
   "source": [
    "1. What is the core functionality of Jupyter notebooks?\n",
    "\n",
    " My understanding is that Jupiter notebooks is a open-source enviromemt which is all in one place which allow you to do coding, documentation , and sharing documents. It is used for not only coding with some languages such as Python, and C, but also for documentation. You can create, modify, and share doccuments which includes that codes, mathematical equations, plots, and graphics by using Jupiter notebook.\n",
    "\n",
    "\n",
    "\n",
    "\n",
    "\n",
    "\n",
    "\n",
    "\n",
    "\n",
    "\n",
    "\n",
    "\n"
   ]
  },
  {
   "cell_type": "code",
   "execution_count": null,
   "id": "7eaf34d5",
   "metadata": {},
   "outputs": [],
   "source": [
    "3. How can you typeset mathematical formulas including Greek letters using LaTeX Markdown in Jupyter Notebooks  \n",
    " To typeset   mathematical formulas including Greek letters using LaTeX Markdown in Jupyter notebooks, you need to use $ signs outside of the LaTeX commands.Also, In order to use the Greek letters, you need to use the bachslash(‘ \\ ’). For example, If you would like to type “a squared”, you first need to put 2 dollar signs. Inside of the daller signs, you can put ‘\\alpha ^2’ which caret denote a superscript\n",
    "\n"
   ]
  },
  {
   "cell_type": "code",
   "execution_count": null,
   "id": "fda77c5e",
   "metadata": {},
   "outputs": [],
   "source": [
    "5.What is the core functionality of the Bash command and scripting language?\n",
    "\n",
    "Bash (\"Bourne-Again SHell\")　is a type of a command-line shell.\n",
    "Bash provides the way to users to interact with the operating system through a command-line interface. \n",
    "Bash also can be used as a scripting language for automation.\n",
    "To do repetitive tasks or complex tasks, Bash is used.\n"
   ]
  },
  {
   "cell_type": "code",
   "execution_count": null,
   "id": "6ff9fe96",
   "metadata": {},
   "outputs": [],
   "source": [
    "6. What is my background in the programming language Python 3? How prevalent is Python 3 in software development?\n",
    "\n",
    " I have written small, and medium python code which includes mathematical and scientific experimentation, simulation, and calculation.\n",
    "I have used the following attributes: Data structures, functions, and conditional loops.\n",
    "\n",
    " Python is one of the popular language in software development. There are several reasons why the Python 3 is very prevalent in software development.\n",
    "One of the main reasons is that using python has. many libraries and frameworks which makes your work more efficient.  Because of the supports by the community of python, there are many different kinds of libraries and frameworks which save your time to write the code more. One of the libraries is SciPy. Scipy has many useful frameworks which help you writing code which is for science, mathematics and data science. \n",
    "\n",
    "\n"
   ]
  },
  {
   "cell_type": "code",
   "execution_count": null,
   "id": "4c399d8a",
   "metadata": {},
   "outputs": [],
   "source": [
    "11.How challenging were Assignment 1 and C for you?\n",
    "\n",
    " When I started an assignment 1, I was not familiar with using C. \n",
    "I had just known the basic knowledge of C language such as the syntax.\n",
    "So,  the assignment 1 was pretty challenging for me.\n",
    "I had spent about 3 hours every day to tackle with the assignment 1 and sometimes I was stressed out. But when the code was running, I felt so accomplished.\n"
   ]
  },
  {
   "cell_type": "code",
   "execution_count": null,
   "id": "e694ac2f",
   "metadata": {},
   "outputs": [],
   "source": [
    "14. What are the most popular programming languages and why?\n",
    "Python is the most popular programming languages in the world in 2022.\n",
    "One pf the reasons why Python is the most popular programming languages is varsatility, efficiency amd the speed. Python has many built-in librualies and frameworks which save your time to build a code from scrach. Also, the running time by using Python is faster than the other modern languages.\n",
    "Moreover,  Python is used for many general purposes which means python is not specialized for speciphic problems. you can solve many variety of general problems, and be used to create many different wkinds of programs such as web development.\n",
    "\n",
    "the second reson why Python is one of the most popular languages is that Python is a user-friendlly language. \n",
    " Python is consierably simple and easy to understand compared to the other languagres such as C which sometimes has complicated syntax. So, Python is usually used by learners who have not learned about codes.  Due to the reasons above, the python is the most popular languages in the world.\n"
   ]
  },
  {
   "cell_type": "code",
   "execution_count": null,
   "id": "bfe06931",
   "metadata": {},
   "outputs": [],
   "source": [
    "Describe the fundamental differences between C and Python.\n",
    "The main fundamental difference between C and Python is the types of languages. \n",
    "C is called as a structure oriented programming  which is run under compiler. \n",
    "The code using C is usually converted into machine language to let computers understand easily. \n",
    "So C is mostly used for applications related to hardware.\n",
    "On the other hand, Python is called as a general purpose programming language which run under an interpreter. \n",
    "Unlike C, python is user-friendly. Python has many built-in library functions which users can use to perform the code more efficiently. \n",
    "Also, python is an interpreted programming language which means you do not need to compile into machine programs before executing  instruction"
   ]
  },
  {
   "cell_type": "code",
   "execution_count": null,
   "id": "1227777c",
   "metadata": {},
   "outputs": [],
   "source": []
  }
 ],
 "metadata": {
  "kernelspec": {
   "display_name": "Python 3 (ipykernel)",
   "language": "python",
   "name": "python3"
  },
  "language_info": {
   "codemirror_mode": {
    "name": "ipython",
    "version": 3
   },
   "file_extension": ".py",
   "mimetype": "text/x-python",
   "name": "python",
   "nbconvert_exporter": "python",
   "pygments_lexer": "ipython3",
   "version": "3.9.13"
  }
 },
 "nbformat": 4,
 "nbformat_minor": 5
}
